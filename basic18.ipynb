{
 "cells": [
  {
   "cell_type": "markdown",
   "id": "2344ae63",
   "metadata": {},
   "source": [
    "#### 1. Create a zoo.py file first. Define the hours() function, which prints the string &#39;Open 9-5 daily&#39;.Then, use the interactive interpreter to import the zoo module and call its hours() function."
   ]
  },
  {
   "cell_type": "code",
   "execution_count": 1,
   "id": "5112aece",
   "metadata": {},
   "outputs": [
    {
     "name": "stdout",
     "output_type": "stream",
     "text": [
      "open 9 to 5 daily\n"
     ]
    }
   ],
   "source": [
    "from zoo import hour\n",
    "hour()"
   ]
  },
  {
   "cell_type": "markdown",
   "id": "6905ac1b",
   "metadata": {},
   "source": [
    "#### 2. In the interactive interpreter, import the zoo module as menagerie and call its hours() function."
   ]
  },
  {
   "cell_type": "code",
   "execution_count": 2,
   "id": "2ddf68b1",
   "metadata": {},
   "outputs": [],
   "source": [
    "import zoo as menagerie "
   ]
  },
  {
   "cell_type": "code",
   "execution_count": 3,
   "id": "429fb616",
   "metadata": {},
   "outputs": [
    {
     "name": "stdout",
     "output_type": "stream",
     "text": [
      "open 9 to 5 daily\n"
     ]
    }
   ],
   "source": [
    "menagerie.hour()"
   ]
  },
  {
   "cell_type": "markdown",
   "id": "9f7d901c",
   "metadata": {},
   "source": [
    "### 3. Using the interpreter, explicitly import and call the hours() function from zoo."
   ]
  },
  {
   "cell_type": "code",
   "execution_count": 4,
   "id": "9acf8120",
   "metadata": {},
   "outputs": [],
   "source": [
    "import zoo "
   ]
  },
  {
   "cell_type": "code",
   "execution_count": 5,
   "id": "71977f33",
   "metadata": {},
   "outputs": [
    {
     "name": "stdout",
     "output_type": "stream",
     "text": [
      "open 9 to 5 daily\n"
     ]
    }
   ],
   "source": [
    "zoo.hour()"
   ]
  },
  {
   "cell_type": "markdown",
   "id": "b0c3354b",
   "metadata": {},
   "source": [
    "#### 4. Import the hours() function as info and call it."
   ]
  },
  {
   "cell_type": "code",
   "execution_count": 7,
   "id": "d266f686",
   "metadata": {},
   "outputs": [],
   "source": [
    "from zoo import hour as info\n"
   ]
  },
  {
   "cell_type": "code",
   "execution_count": 8,
   "id": "9bc03333",
   "metadata": {},
   "outputs": [
    {
     "name": "stdout",
     "output_type": "stream",
     "text": [
      "open 9 to 5 daily\n"
     ]
    }
   ],
   "source": [
    "info()"
   ]
  },
  {
   "cell_type": "markdown",
   "id": "c76f4380",
   "metadata": {},
   "source": [
    "### 5. Create a plain dictionary with the key-value pairs &#39;a&#39;: 1, &#39;b&#39;: 2, and &#39;c&#39;: 3, and print it out."
   ]
  },
  {
   "cell_type": "code",
   "execution_count": 9,
   "id": "d54b0547",
   "metadata": {},
   "outputs": [
    {
     "name": "stdout",
     "output_type": "stream",
     "text": [
      "{'a': 1, 'b': 2, 'c': 3}\n"
     ]
    }
   ],
   "source": [
    "plain_dict = {'a': 1, 'b': 2, 'c': 3}\n",
    "print(plain_dict)\n"
   ]
  },
  {
   "cell_type": "code",
   "execution_count": 10,
   "id": "270680b7",
   "metadata": {},
   "outputs": [
    {
     "name": "stdout",
     "output_type": "stream",
     "text": [
      "{'a': 1, 'b': 2, 'c': 3}\n"
     ]
    }
   ],
   "source": [
    "plain_dict = dict(a=1, b=2, c=3)\n",
    "print(plain_dict)\n"
   ]
  },
  {
   "cell_type": "markdown",
   "id": "3f0073df",
   "metadata": {},
   "source": [
    "#### 6.Make an OrderedDict called fancy from the same pairs listed in 5 and print it. Did it print in thesame order as plain?"
   ]
  },
  {
   "cell_type": "code",
   "execution_count": 19,
   "id": "c9c5e577",
   "metadata": {},
   "outputs": [
    {
     "data": {
      "text/plain": [
       "OrderedDict([('a', 1), ('b', 2), ('c', 3)])"
      ]
     },
     "execution_count": 19,
     "metadata": {},
     "output_type": "execute_result"
    }
   ],
   "source": [
    "from collections import OrderedDict\n",
    "fancy = OrderedDict(a =1,b =2,c=3)\n",
    "fancy"
   ]
  },
  {
   "cell_type": "markdown",
   "id": "c46fcff7",
   "metadata": {},
   "source": [
    "```\n",
    "starting from Python 3.7, regular dictionaries also maintain the insertion order, so the plain_dict created in Step 5 would print in the same order as well. However, if you are using an earlier version of Python where the order of regular dictionaries is not guaranteed, using an OrderedDict ensures the desired order.\n",
    "```"
   ]
  },
  {
   "cell_type": "code",
   "execution_count": 18,
   "id": "3cdb8941",
   "metadata": {},
   "outputs": [
    {
     "data": {
      "text/plain": [
       "1"
      ]
     },
     "execution_count": 18,
     "metadata": {},
     "output_type": "execute_result"
    }
   ],
   "source": [
    "fancy[\"a\"]"
   ]
  },
  {
   "cell_type": "markdown",
   "id": "f4cb6fb4",
   "metadata": {},
   "source": [
    "#### 7. Make a default dictionary called dict_of_lists and pass it the argument list. Make the listdict_of_lists[&#39;a&#39;] and append the value &#39;something for a&#39; to it in one assignment. Printdict_of_lists[&#39;a&#39;]."
   ]
  },
  {
   "cell_type": "code",
   "execution_count": 20,
   "id": "8c5af248",
   "metadata": {},
   "outputs": [
    {
     "data": {
      "text/plain": [
       "'something for a'"
      ]
     },
     "execution_count": 20,
     "metadata": {},
     "output_type": "execute_result"
    }
   ],
   "source": [
    "dict_of_list = dict()\n",
    "dict_of_list[\"a\"] = \"something for a\"\n",
    "dict_of_list[\"a\"]"
   ]
  },
  {
   "cell_type": "code",
   "execution_count": null,
   "id": "e03f3c01",
   "metadata": {},
   "outputs": [],
   "source": []
  }
 ],
 "metadata": {
  "kernelspec": {
   "display_name": "Python 3 (ipykernel)",
   "language": "python",
   "name": "python3"
  },
  "language_info": {
   "codemirror_mode": {
    "name": "ipython",
    "version": 3
   },
   "file_extension": ".py",
   "mimetype": "text/x-python",
   "name": "python",
   "nbconvert_exporter": "python",
   "pygments_lexer": "ipython3",
   "version": "3.10.9"
  }
 },
 "nbformat": 4,
 "nbformat_minor": 5
}
